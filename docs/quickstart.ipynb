{
 "cells": [
  {
   "cell_type": "markdown",
   "metadata": {},
   "source": [
    "## Quick start\n",
    "\n",
    "The Named Binary Tag (NBT) file format is a simple structured binary format used by Minecraft and other tools in the ecosystem (see the [official specification](http://wiki.vg/NBT) for more details). `nbtlib` makes it possible to read and edit NBT data in python and handles other.\n",
    "\n",
    "### Reading files\n",
    "\n",
    "The `nbtlib.load` function parses nbt files as `nbtlib.File` objects. The `root` property contains the root nbt tag."
   ]
  },
  {
   "cell_type": "code",
   "execution_count": 11,
   "metadata": {},
   "outputs": [
    {
     "data": {
      "text/plain": [
       "Int(2147483647)"
      ]
     },
     "execution_count": 11,
     "metadata": {},
     "output_type": "execute_result"
    }
   ],
   "source": [
    "import nbtlib\n",
    "\n",
    "nbt_file = nbtlib.load('nbt_files/bigtest.nbt')\n",
    "nbt_file.root['intTest']"
   ]
  },
  {
   "cell_type": "markdown",
   "metadata": {},
   "source": [
    "With the exception of `ByteArray`, `IntArray` and `LongArray` tags, every tag type inherits from a python builtin. Array tags inherit from numpy arrays instead of the builtin array type to benefit from numpy's efficiency and versatility.\n",
    "\n",
    "Instances of `nbtlib.File` inherit from regular `Compound` tags, which themselves inherit from the builtin python `dict`. The `root` property is simply an alias to the first entry of the root NBT compound."
   ]
  },
  {
   "cell_type": "code",
   "execution_count": 8,
   "metadata": {},
   "outputs": [
    {
     "data": {
      "text/plain": [
       "True"
      ]
     },
     "execution_count": 8,
     "metadata": {},
     "output_type": "execute_result"
    }
   ],
   "source": [
    "nbt_file['Level'] == nbt_file.root"
   ]
  },
  {
   "cell_type": "markdown",
   "metadata": {},
   "source": [
    "### Editing files\n",
    "\n",
    "Instances of `nbtlib.File` can be used as context managers to save modifications automatically at the end of the `with` statement."
   ]
  },
  {
   "cell_type": "code",
   "execution_count": 22,
   "metadata": {},
   "outputs": [
    {
     "data": {
      "text/plain": [
       "<File 'test': Compound({'counter': Int(70)})>"
      ]
     },
     "execution_count": 22,
     "metadata": {},
     "output_type": "execute_result"
    }
   ],
   "source": [
    "from nbtlib.tag import Int\n",
    "\n",
    "with nbtlib.load('nbt_files/demo.nbt') as demo:\n",
    "    demo.root['counter'] = Int(demo.root['counter'] + 1)\n",
    "\n",
    "demo"
   ]
  }
 ],
 "metadata": {
  "kernelspec": {
   "display_name": "Python 3",
   "language": "python",
   "name": "python3"
  },
  "language_info": {
   "codemirror_mode": {
    "name": "ipython",
    "version": 3
   },
   "file_extension": ".py",
   "mimetype": "text/x-python",
   "name": "python",
   "nbconvert_exporter": "python",
   "pygments_lexer": "ipython3",
   "version": "3.7.4"
  }
 },
 "nbformat": 4,
 "nbformat_minor": 2
}
